{
 "cells": [
  {
   "cell_type": "markdown",
   "metadata": {},
   "source": [
    "# Importation des librairies"
   ]
  },
  {
   "cell_type": "code",
   "execution_count": 51,
   "metadata": {},
   "outputs": [],
   "source": [
    "import cv2\n",
    "import os\n",
    "import numpy as np\n",
    "from matplotlib import pyplot as plt\n",
    "from tqdm import tqdm"
   ]
  },
  {
   "cell_type": "markdown",
   "metadata": {},
   "source": [
    "# Fonction de traitement des images"
   ]
  },
  {
   "cell_type": "code",
   "execution_count": 61,
   "metadata": {},
   "outputs": [],
   "source": [
    "\n",
    "def copy_images(images_folder_path, output_folder_path):\n",
    "    # Get the list of image files in the folder\n",
    "    image_files = [f for f in os.listdir(images_folder_path) if f.endswith(('.png', '.jpg', '.jpeg', '.JPG'))]\n",
    "    # Sort the image files based on their names\n",
    "    image_files.sort()\n",
    "    for i, image_file in enumerate(image_files):\n",
    "        image_path = os.path.join(images_folder_path, image_file)\n",
    "        new_image_path = os.path.join(output_folder_path, image_file)\n",
    "        os.system(f\"cp {image_path} {new_image_path}\")\n",
    "    print(f\"Images copied successfully and saved in: {output_folder_path}\")\n",
    "def create_video(images_folder, output_video_path, frame_rate=25):\n",
    "    # Get the list of image files in the folder\n",
    "    image_files = [f for f in os.listdir(images_folder) if f.endswith(('.png', '.jpg', '.jpeg', '.JPG'))]\n",
    "\n",
    "    # Sort the image files based on their names\n",
    "    image_files.sort()\n",
    "\n",
    "    # Get the first image to determine the video dimensions\n",
    "    first_image = cv2.imread(os.path.join(images_folder, image_files[0]))\n",
    "    height, width, _ = first_image.shape\n",
    "\n",
    "    # Define the codec and create a VideoWriter object\n",
    "    fourcc = cv2.VideoWriter_fourcc(*'mp4v')  # You can change the codec if needed\n",
    "    video_writer = cv2.VideoWriter(output_video_path, fourcc, frame_rate, (width, height))\n",
    "\n",
    "    for image_file in image_files:\n",
    "        # Read each image and write it to the video\n",
    "        image_path = os.path.join(images_folder, image_file)\n",
    "        frame = cv2.imread(image_path)\n",
    "        video_writer.write(frame)\n",
    "\n",
    "    # Release the VideoWriter object\n",
    "    video_writer.release()\n",
    "\n",
    "    print(f\"Video created successfully at: {output_video_path}\")\n",
    "\n",
    "def to_black_and_white(images_folder_path, output_folder_path):\n",
    "    # Get the list of image files in the folder\n",
    "    image_files = [f for f in os.listdir(images_folder_path) if f.endswith(('.png', '.jpg', '.jpeg', '.JPG'))]\n",
    "    # Sort the image files based on their names\n",
    "    image_files.sort()\n",
    "    for i, image_file in enumerate(image_files):\n",
    "        image_path = os.path.join(images_folder_path, image_file)\n",
    "        frame = cv2.imread(image_path)\n",
    "        gray_frame = cv2.cvtColor(frame, cv2.COLOR_BGR2GRAY)\n",
    "        new_image_path = os.path.join(output_folder_path, image_file)\n",
    "        cv2.imwrite(new_image_path, gray_frame)\n",
    "    print(f\"Images converted to black and white successfully and saved in: {output_folder_path}\")\n",
    "\n",
    "def crop_bottom_images(images_folder_path, output_folder_path, bottom_pixels):\n",
    "\n",
    "    # Get the list of image files in the folder\n",
    "    image_files = [f for f in os.listdir(images_folder_path) if f.endswith(('.png', '.jpg', '.jpeg', '.JPG'))]\n",
    "    # Sort the image files based on their names\n",
    "    image_files.sort()\n",
    "\n",
    "    for i, image_file in enumerate(image_files):\n",
    "        image_path = os.path.join(images_folder_path, image_file)\n",
    "        frame = cv2.imread(image_path)\n",
    "\n",
    "        if frame is None:\n",
    "            print(f\"Error reading image: {image_path}\")\n",
    "            continue\n",
    "\n",
    "        # Get the height of the image\n",
    "        height, _ = frame.shape[:2]\n",
    "\n",
    "        # Crop the bottom of the image\n",
    "        cropped_frame = frame[:-bottom_pixels, :]\n",
    "\n",
    "        new_image_path = os.path.join(output_folder_path, image_file)\n",
    "        cv2.imwrite(new_image_path, cropped_frame)\n",
    "\n",
    "    print(f\"Images cropped successfully and saved in: {output_folder_path}\")\n",
    "\n",
    "def adjust_brightness(images_folder_path, output_folder_path, brightness, left=3000, right=4500, bottom=3000, top=2000):\n",
    "    # Get the list of image files in the folder\n",
    "    image_files = [f for f in os.listdir(images_folder_path) if f.endswith(('.png', '.jpg', '.jpeg', '.JPG'))]\n",
    "    # Sort the image files based on their names\n",
    "    image_files.sort()\n",
    "    for i, image_file in enumerate(image_files):\n",
    "        image_path = os.path.join(images_folder_path, image_file)\n",
    "        frame = cv2.imread(image_path, cv2.IMREAD_GRAYSCALE)\n",
    "        frame_crop = frame[top:bottom, left:right]\n",
    "        mean_crop = np.mean(frame_crop)\n",
    "        frame = cv2.multiply(frame, brightness/mean_crop)\n",
    "        new_image_path = os.path.join(output_folder_path, image_file)\n",
    "        cv2.imwrite(new_image_path, frame)\n",
    "    frame[top:bottom, left:right] = 0\n",
    "    plt.imshow(frame, cmap='gray')\n",
    "    print(f\"Images brightness adjusted successfully and saved in: {output_folder_path}\")\n"
   ]
  },
  {
   "cell_type": "markdown",
   "metadata": {},
   "source": [
    "Pour traiter les images, je les ai converties en niveaux de gris, puis j'ai imposé une valeur de luminosité moyenne à un masque rectangulaire. Cela permet de supprimer les variations dues au soleil et d'avoir un tracking qui foctionnera mieux.\n",
    "\n",
    "Image avant le traitement :\n",
    "\n",
    "<img src=\"images-source/23_01180475.JPG\" width=\"500\">\n",
    "\n",
    "Image après le traitement :\n",
    "\n",
    "<img src=\"images-traitees/23_01180475.JPG\" width=\"500\">\n"
   ]
  }
 ],
 "metadata": {
  "kernelspec": {
   "display_name": "pytrx",
   "language": "python",
   "name": "python3"
  },
  "language_info": {
   "codemirror_mode": {
    "name": "ipython",
    "version": 3
   },
   "file_extension": ".py",
   "mimetype": "text/x-python",
   "name": "python",
   "nbconvert_exporter": "python",
   "pygments_lexer": "ipython3",
   "version": "3.7.0"
  }
 },
 "nbformat": 4,
 "nbformat_minor": 2
}
