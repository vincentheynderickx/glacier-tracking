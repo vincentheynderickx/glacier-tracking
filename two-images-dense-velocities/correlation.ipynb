{
 "cells": [
  {
   "cell_type": "code",
   "execution_count": 16,
   "metadata": {},
   "outputs": [],
   "source": [
    "#Import packages\n",
    "import cv2, glob, sys\n",
    "import glob\n",
    "import numpy as np\n",
    "from pathlib import Path\n",
    "import matplotlib.pyplot as plt\n",
    "\n",
    "sys.path.append('../PyTrx')\n",
    "from CamEnv import setProjection, optimiseCamera, computeResidualsXYZ\n",
    "from DEM import load_DEM\n",
    "import Velocity\n",
    "import FileHandler\n",
    "import Utilities \n"
   ]
  },
  {
   "cell_type": "code",
   "execution_count": 18,
   "metadata": {},
   "outputs": [],
   "source": [
    "#--------------------------   Define parameters   -----------------------------\n",
    "\n",
    "#DEM parameters \n",
    "DEMdensify = 2                      #DEM densification factor (for smoothing)\n",
    "\n",
    "#Optimisation parameters\n",
    "optparams = 'YPR'                   #Parameters to optimise\n",
    "optmethod = 'trf'                   #Optimisation method\n",
    "\n",
    "#Image enhancement paramaters\n",
    "band = 'L'                          #Image band extraction (R, B, G, or L)\n",
    "equal = True                        #Histogram equalisation?\n",
    "\n",
    "#Sparse velocity parameters\n",
    "vwin = (25,25)                      #Sparse corner matching window size\n",
    "vback = 1.0                         #Back-tracking threshold  \n",
    "vmax = 50000                        #Maximum number of corners to seed\n",
    "vqual = 0.1                         #Corner quality for seeding\n",
    "vmindist = 5.0                      #Minimum distance between points\n",
    "\n",
    "#Dense velocity parameters\n",
    "vgrid = [50,50]                     #Dense matching grid distance\n",
    "vtemplate=10                        #Template size\n",
    "vsearch=50                          #Search window size\n",
    "vmethod='cv2.TM_CCORR_NORMED'       #Method for template matching\n",
    "vthres=0.8                          #Threshold average template correlation\n",
    "\n",
    "#General velocity parameters\n",
    "vminfeat = 1                        #Minimum number of points to track\n",
    "                         \n",
    "#Homography parameters\n",
    "hwin = (25,25)                      #Stable pt tracking window size\n",
    "hmethod = cv2.RANSAC                #Homography calculation method \n",
    "                                    #(cv2.RANSAC, cv2.LEAST_MEDIAN, or 0)\n",
    "hreproj = 5.0                       #Maximum allowed reprojection error\n",
    "hback = 0.5                         #Back-tracking threshold\n",
    "herr = True                         #Calculate tracking error?\n",
    "hmax = 50000                        #Maximum number of points to seed\n",
    "hqual = 0.1                         #Corner quality for seeding\n",
    "hmindist = 5.0                      #Minimum distance between seeded points\n",
    "hminfeat = 4                        #Minimum number of seeded points to track\n"
   ]
  },
  {
   "cell_type": "code",
   "execution_count": 24,
   "metadata": {},
   "outputs": [
    {
     "name": "stdout",
     "output_type": "stream",
     "text": [
      "\n",
      "CALCULATING VELOCITIES\n",
      "\n",
      "Processing images: 23_07310070.JPG and 23_08150237.JPG\n",
      "Calculating dense velocities...\n"
     ]
    },
    {
     "ename": "TypeError",
     "evalue": "Cannot convert fill_value nan to dtype uint8",
     "output_type": "error",
     "traceback": [
      "\u001b[0;31m---------------------------------------------------------------------------\u001b[0m",
      "\u001b[0;31mValueError\u001b[0m                                Traceback (most recent call last)",
      "\u001b[0;32m~/miniconda3/envs/pytrx/lib/python3.7/site-packages/numpy/ma/core.py\u001b[0m in \u001b[0;36m_check_fill_value\u001b[0;34m(fill_value, ndtype)\u001b[0m\n\u001b[1;32m    461\u001b[0m             \u001b[0;32mtry\u001b[0m\u001b[0;34m:\u001b[0m\u001b[0;34m\u001b[0m\u001b[0m\n\u001b[0;32m--> 462\u001b[0;31m                 \u001b[0mfill_value\u001b[0m \u001b[0;34m=\u001b[0m \u001b[0mnp\u001b[0m\u001b[0;34m.\u001b[0m\u001b[0marray\u001b[0m\u001b[0;34m(\u001b[0m\u001b[0mfill_value\u001b[0m\u001b[0;34m,\u001b[0m \u001b[0mcopy\u001b[0m\u001b[0;34m=\u001b[0m\u001b[0;32mFalse\u001b[0m\u001b[0;34m,\u001b[0m \u001b[0mdtype\u001b[0m\u001b[0;34m=\u001b[0m\u001b[0mndtype\u001b[0m\u001b[0;34m)\u001b[0m\u001b[0;34m\u001b[0m\u001b[0m\n\u001b[0m\u001b[1;32m    463\u001b[0m             \u001b[0;32mexcept\u001b[0m \u001b[0;34m(\u001b[0m\u001b[0mOverflowError\u001b[0m\u001b[0;34m,\u001b[0m \u001b[0mValueError\u001b[0m\u001b[0;34m)\u001b[0m \u001b[0;32mas\u001b[0m \u001b[0me\u001b[0m\u001b[0;34m:\u001b[0m\u001b[0;34m\u001b[0m\u001b[0m\n",
      "\u001b[0;31mValueError\u001b[0m: cannot convert float NaN to integer",
      "\nThe above exception was the direct cause of the following exception:\n",
      "\u001b[0;31mTypeError\u001b[0m                                 Traceback (most recent call last)",
      "\u001b[0;32m/var/folders/v6/s6_yfnns25q4p3_sjmxd0tbw0000gn/T/ipykernel_15481/2642286256.py\u001b[0m in \u001b[0;36m<module>\u001b[0;34m\u001b[0m\n\u001b[1;32m     29\u001b[0m     \u001b[0mprint\u001b[0m\u001b[0;34m(\u001b[0m\u001b[0;34m'Calculating dense velocities...'\u001b[0m\u001b[0;34m)\u001b[0m\u001b[0;34m\u001b[0m\u001b[0m\n\u001b[1;32m     30\u001b[0m     vl = Velocity.calcDenseVelocity(im0, im1, vgrid, vmethod, vtemplate, \n\u001b[0;32m---> 31\u001b[0;31m                                      vsearch, im0, vthres, vminfeat)   \n\u001b[0m\u001b[1;32m     32\u001b[0m \u001b[0;34m\u001b[0m\u001b[0m\n\u001b[1;32m     33\u001b[0m     \u001b[0mvelo\u001b[0m\u001b[0;34m.\u001b[0m\u001b[0mappend\u001b[0m\u001b[0;34m(\u001b[0m\u001b[0mvl\u001b[0m\u001b[0;34m)\u001b[0m\u001b[0;34m\u001b[0m\u001b[0m\n",
      "\u001b[0;32m~/coursinfo/glacier-tracking/PyTrx/Velocity.py\u001b[0m in \u001b[0;36mcalcDenseVelocity\u001b[0;34m(im0, im1, griddistance, method, templatesize, searchsize, mask, calib, homog, campars, threshold, min_features)\u001b[0m\n\u001b[1;32m    678\u001b[0m         \u001b[0mxyz0\u001b[0m\u001b[0;34m,\u001b[0m \u001b[0muv0\u001b[0m \u001b[0;34m=\u001b[0m \u001b[0mseedGridDEM\u001b[0m\u001b[0;34m(\u001b[0m\u001b[0mcampars\u001b[0m\u001b[0;34m[\u001b[0m\u001b[0;36m0\u001b[0m\u001b[0;34m]\u001b[0m\u001b[0;34m,\u001b[0m \u001b[0mgriddistance\u001b[0m\u001b[0;34m,\u001b[0m \u001b[0mcampars\u001b[0m\u001b[0;34m[\u001b[0m\u001b[0;36m1\u001b[0m\u001b[0;34m]\u001b[0m\u001b[0;34m,\u001b[0m \u001b[0mmask\u001b[0m\u001b[0;34m)\u001b[0m\u001b[0;34m\u001b[0m\u001b[0m\n\u001b[1;32m    679\u001b[0m     \u001b[0;32melse\u001b[0m\u001b[0;34m:\u001b[0m\u001b[0;34m\u001b[0m\u001b[0m\n\u001b[0;32m--> 680\u001b[0;31m         \u001b[0muv0\u001b[0m \u001b[0;34m=\u001b[0m \u001b[0mseedGridIm\u001b[0m\u001b[0;34m(\u001b[0m\u001b[0mim0\u001b[0m\u001b[0;34m,\u001b[0m \u001b[0mgriddistance\u001b[0m\u001b[0;34m,\u001b[0m \u001b[0mmask\u001b[0m\u001b[0;34m)\u001b[0m\u001b[0;34m\u001b[0m\u001b[0m\n\u001b[0m\u001b[1;32m    681\u001b[0m \u001b[0;34m\u001b[0m\u001b[0m\n\u001b[1;32m    682\u001b[0m     \u001b[0mprint\u001b[0m\u001b[0;34m(\u001b[0m\u001b[0mstr\u001b[0m\u001b[0;34m(\u001b[0m\u001b[0muv0\u001b[0m\u001b[0;34m.\u001b[0m\u001b[0mshape\u001b[0m\u001b[0;34m[\u001b[0m\u001b[0;36m0\u001b[0m\u001b[0;34m]\u001b[0m\u001b[0;34m)\u001b[0m \u001b[0;34m+\u001b[0m \u001b[0;34m' templates generated'\u001b[0m\u001b[0;34m)\u001b[0m\u001b[0;34m\u001b[0m\u001b[0m\n",
      "\u001b[0;32m~/coursinfo/glacier-tracking/PyTrx/Velocity.py\u001b[0m in \u001b[0;36mseedGridIm\u001b[0;34m(im, griddistance, mask)\u001b[0m\n\u001b[1;32m   1471\u001b[0m     \u001b[0;32mif\u001b[0m \u001b[0mmask\u001b[0m \u001b[0;32mis\u001b[0m \u001b[0;32mnot\u001b[0m \u001b[0;32mNone\u001b[0m\u001b[0;34m:\u001b[0m\u001b[0;34m\u001b[0m\u001b[0m\n\u001b[1;32m   1472\u001b[0m         \u001b[0mim\u001b[0m \u001b[0;34m=\u001b[0m \u001b[0mma\u001b[0m\u001b[0;34m.\u001b[0m\u001b[0mmasked_array\u001b[0m\u001b[0;34m(\u001b[0m\u001b[0mim\u001b[0m\u001b[0;34m,\u001b[0m \u001b[0mnp\u001b[0m\u001b[0;34m.\u001b[0m\u001b[0mlogical_not\u001b[0m\u001b[0;34m(\u001b[0m\u001b[0mmask\u001b[0m\u001b[0;34m)\u001b[0m\u001b[0;34m)\u001b[0m\u001b[0;34m\u001b[0m\u001b[0m\n\u001b[0;32m-> 1473\u001b[0;31m         \u001b[0mim\u001b[0m \u001b[0;34m=\u001b[0m \u001b[0mim\u001b[0m\u001b[0;34m.\u001b[0m\u001b[0mfilled\u001b[0m\u001b[0;34m(\u001b[0m\u001b[0mnp\u001b[0m\u001b[0;34m.\u001b[0m\u001b[0mnan\u001b[0m\u001b[0;34m)\u001b[0m\u001b[0;34m\u001b[0m\u001b[0m\n\u001b[0m\u001b[1;32m   1474\u001b[0m \u001b[0;34m\u001b[0m\u001b[0m\n\u001b[1;32m   1475\u001b[0m     \u001b[0;31m#Define point spacings in image space\u001b[0m\u001b[0;34m\u001b[0m\u001b[0;34m\u001b[0m\u001b[0m\n",
      "\u001b[0;32m~/miniconda3/envs/pytrx/lib/python3.7/site-packages/numpy/ma/core.py\u001b[0m in \u001b[0;36mfilled\u001b[0;34m(self, fill_value)\u001b[0m\n\u001b[1;32m   3781\u001b[0m             \u001b[0mfill_value\u001b[0m \u001b[0;34m=\u001b[0m \u001b[0mself\u001b[0m\u001b[0;34m.\u001b[0m\u001b[0mfill_value\u001b[0m\u001b[0;34m\u001b[0m\u001b[0m\n\u001b[1;32m   3782\u001b[0m         \u001b[0;32melse\u001b[0m\u001b[0;34m:\u001b[0m\u001b[0;34m\u001b[0m\u001b[0m\n\u001b[0;32m-> 3783\u001b[0;31m             \u001b[0mfill_value\u001b[0m \u001b[0;34m=\u001b[0m \u001b[0m_check_fill_value\u001b[0m\u001b[0;34m(\u001b[0m\u001b[0mfill_value\u001b[0m\u001b[0;34m,\u001b[0m \u001b[0mself\u001b[0m\u001b[0;34m.\u001b[0m\u001b[0mdtype\u001b[0m\u001b[0;34m)\u001b[0m\u001b[0;34m\u001b[0m\u001b[0m\n\u001b[0m\u001b[1;32m   3784\u001b[0m \u001b[0;34m\u001b[0m\u001b[0m\n\u001b[1;32m   3785\u001b[0m         \u001b[0;32mif\u001b[0m \u001b[0mself\u001b[0m \u001b[0;32mis\u001b[0m \u001b[0mmasked_singleton\u001b[0m\u001b[0;34m:\u001b[0m\u001b[0;34m\u001b[0m\u001b[0m\n",
      "\u001b[0;32m~/miniconda3/envs/pytrx/lib/python3.7/site-packages/numpy/ma/core.py\u001b[0m in \u001b[0;36m_check_fill_value\u001b[0;34m(fill_value, ndtype)\u001b[0m\n\u001b[1;32m    466\u001b[0m                 \u001b[0;31m# that the passed fill_value is not compatible with the ndtype.\u001b[0m\u001b[0;34m\u001b[0m\u001b[0;34m\u001b[0m\u001b[0m\n\u001b[1;32m    467\u001b[0m                 \u001b[0merr_msg\u001b[0m \u001b[0;34m=\u001b[0m \u001b[0;34m\"Cannot convert fill_value %s to dtype %s\"\u001b[0m\u001b[0;34m\u001b[0m\u001b[0m\n\u001b[0;32m--> 468\u001b[0;31m                 \u001b[0;32mraise\u001b[0m \u001b[0mTypeError\u001b[0m\u001b[0;34m(\u001b[0m\u001b[0merr_msg\u001b[0m \u001b[0;34m%\u001b[0m \u001b[0;34m(\u001b[0m\u001b[0mfill_value\u001b[0m\u001b[0;34m,\u001b[0m \u001b[0mndtype\u001b[0m\u001b[0;34m)\u001b[0m\u001b[0;34m)\u001b[0m \u001b[0;32mfrom\u001b[0m \u001b[0me\u001b[0m\u001b[0;34m\u001b[0m\u001b[0m\n\u001b[0m\u001b[1;32m    469\u001b[0m     \u001b[0;32mreturn\u001b[0m \u001b[0mnp\u001b[0m\u001b[0;34m.\u001b[0m\u001b[0marray\u001b[0m\u001b[0;34m(\u001b[0m\u001b[0mfill_value\u001b[0m\u001b[0;34m)\u001b[0m\u001b[0;34m\u001b[0m\u001b[0m\n\u001b[1;32m    470\u001b[0m \u001b[0;34m\u001b[0m\u001b[0m\n",
      "\u001b[0;31mTypeError\u001b[0m: Cannot convert fill_value nan to dtype uint8"
     ]
    }
   ],
   "source": [
    "#----------------------   Calculate velocities   ------------------------------\n",
    "\n",
    "print('\\nCALCULATING VELOCITIES')\n",
    "\n",
    "imgFiles = 'images/*.JPG'\n",
    "imagelist = sorted(glob.glob(imgFiles))\n",
    "im1 = FileHandler.readImg(imagelist[0], band, equal)\n",
    "imn1 = Path(imagelist[0]).name\n",
    "\n",
    "#Create empty output variables\n",
    "velo = []                                    \n",
    "\n",
    "#Cycle through image pairs (numbered from 0)\n",
    "for i in range(len(imagelist)-1):\n",
    "\n",
    "    #Re-assign first image in image pair\n",
    "    im0=im1\n",
    "    imn0=imn1\n",
    "                    \n",
    "    #Get second image (corrected) in image pair\n",
    "    im1 = FileHandler.readImg(imagelist[i+1], band, equal)\n",
    "    imn1 = Path(imagelist[i+1]).name                                                       \n",
    "    \n",
    "    \n",
    "    print('\\nProcessing images: ' + str(imn0) + ' and ' + str(imn1))\n",
    "        \n",
    "   \n",
    "    print('Calculating dense velocities...')    \n",
    "    vl = Velocity.calcDenseVelocity(im0, im1, vgrid, vmethod, vtemplate, \n",
    "                                     vsearch, vmask2, vthres, vminfeat)   \n",
    " \n",
    "    velo.append(vl)  \n"
   ]
  },
  {
   "cell_type": "code",
   "execution_count": null,
   "metadata": {},
   "outputs": [],
   "source": []
  }
 ],
 "metadata": {
  "kernelspec": {
   "display_name": "pytrx",
   "language": "python",
   "name": "python3"
  },
  "language_info": {
   "codemirror_mode": {
    "name": "ipython",
    "version": 3
   },
   "file_extension": ".py",
   "mimetype": "text/x-python",
   "name": "python",
   "nbconvert_exporter": "python",
   "pygments_lexer": "ipython3",
   "version": "3.7.0"
  }
 },
 "nbformat": 4,
 "nbformat_minor": 2
}
